{
  "nbformat": 4,
  "nbformat_minor": 0,
  "metadata": {
    "colab": {
      "provenance": []
    },
    "kernelspec": {
      "name": "python3",
      "display_name": "Python 3"
    },
    "language_info": {
      "name": "python"
    }
  },
  "cells": [
    {
      "cell_type": "markdown",
      "source": [
        "# Part 0: Import Libraries."
      ],
      "metadata": {
        "id": "nw0iwePutBgc"
      }
    },
    {
      "cell_type": "code",
      "execution_count": 1,
      "metadata": {
        "id": "t8AsmGprplSG"
      },
      "outputs": [],
      "source": [
        "!pip install group-lasso --quiet"
      ]
    },
    {
      "cell_type": "code",
      "source": [
        "from sklearn.datasets import fetch_openml\n",
        "import pandas as pd\n",
        "import numpy as np\n",
        "import matplotlib\n",
        "import matplotlib.pyplot as plt\n",
        "import matplotlib.patches as mpatches\n",
        "import seaborn as sns\n",
        "from sklearn.preprocessing import StandardScaler\n",
        "from sklearn.linear_model import LogisticRegression, LogisticRegressionCV\n",
        "from group_lasso import GroupLasso\n",
        "from sklearn.metrics import accuracy_score\n",
        "from group_lasso import LogisticGroupLasso\n",
        "from sklearn.metrics import accuracy_score, classification_report"
      ],
      "metadata": {
        "id": "g7--ZF34p1kQ"
      },
      "execution_count": 47,
      "outputs": []
    },
    {
      "cell_type": "markdown",
      "source": [
        "# Part 1: Import & Process Data."
      ],
      "metadata": {
        "id": "H5umRaCvtFL8"
      }
    },
    {
      "cell_type": "markdown",
      "source": [
        "Run necessary code from notebook 1."
      ],
      "metadata": {
        "id": "HEUsm7XZg0kJ"
      }
    },
    {
      "cell_type": "code",
      "source": [
        "# Load Dataset\n",
        "mnist = fetch_openml(\"mnist_784\")\n",
        "\n",
        "# Filter and Prepare Dataset\n",
        "keys = list(mnist.keys())\n",
        "df = pd.concat([mnist[keys[0]],mnist[keys[1]]],axis=1)\n",
        "df['class'] = df['class'].apply(lambda x: int(x))\n",
        "bool_musk = df['class'].isin([3,5,8])\n",
        "df = df.loc[bool_musk].reset_index(drop=True)\n",
        "\n",
        "# Split data into training and testing\n",
        "cutoff = int(df.shape[0]*(0.8))\n",
        "X, y = df.iloc[:,:-1], df['class']\n",
        "X_train, X_test = X[:cutoff], X[cutoff:]\n",
        "y_train, y_test = y[:cutoff], y[cutoff:]\n",
        "\n",
        "# Randomize the split\n",
        "n = X_train.shape[0]\n",
        "rand = np.random.permutation(n)\n",
        "X_train = X_train.iloc[list(rand),:].reset_index(drop = True)\n",
        "y_train = y_train[rand].reset_index(drop = True)\n",
        "\n",
        "assert X_train.shape[0] + X_test.shape[0] == df.shape[0], 'ERROR'\n",
        "assert X_train.shape[1] == X_test.shape[1] == df.shape[1] - 1, 'ERROR' #class column == y\n",
        "assert y_train.shape[0] + y_test.shape[0] == df.shape[0], 'ERROR'\n",
        "\n",
        "# Formats\n",
        "print(f'X_train: {X_train.shape},\\nX_test: {X_test.shape},\\ny_train: {y_train.shape},\\ny_test: {y_test.shape}')"
      ],
      "metadata": {
        "colab": {
          "base_uri": "https://localhost:8080/"
        },
        "id": "cvnnJwGsqSp0",
        "outputId": "617859a5-b18d-4f8d-8d47-e7c007ea1d43"
      },
      "execution_count": 4,
      "outputs": [
        {
          "output_type": "stream",
          "name": "stdout",
          "text": [
            "X_train: (16223, 784),\n",
            "X_test: (4056, 784),\n",
            "y_train: (16223,),\n",
            "y_test: (4056,)\n"
          ]
        }
      ]
    },
    {
      "cell_type": "markdown",
      "source": [
        "# Part 2: Fit Group LASSO on Multinomial Regression."
      ],
      "metadata": {
        "id": "1njbgOMwtLfp"
      }
    },
    {
      "cell_type": "markdown",
      "source": [
        "Here we perform a Multinomial Regression Group LASSO for groups. First we need to scale the data."
      ],
      "metadata": {
        "id": "M1_rtxQ9tQvR"
      }
    },
    {
      "cell_type": "code",
      "source": [
        "# Scale the data\n",
        "scaler = StandardScaler()\n",
        "X_train_scaled = scaler.fit_transform(X_train)\n",
        "X_test_scaled = scaler.transform(X_test)"
      ],
      "metadata": {
        "id": "AQd8WLiIre2r"
      },
      "execution_count": 7,
      "outputs": []
    },
    {
      "cell_type": "markdown",
      "source": [
        "# 1x1 Chunk Grouping"
      ],
      "metadata": {
        "id": "le__1AKlkT7H"
      }
    },
    {
      "cell_type": "markdown",
      "source": [
        "Now initialize the model with #groups and l1 regularization.  Here we use the number of groups = number of features. This is done in order to determine the relevant features (or pixels) that are used across all digits 3, 5, and 8.  If we fit a regular LASSO, the features for each digit that shrink to 0 would differ across classes.  Now with group LASSO the features that shrink to 0 must do so across all classes which is a desirable feature.  Note, we could also use different groups such as 2x2 pixels which would likely increase accuracy; but I value interpretability and simplicity more in this fit so I just keep it simple and fit each feature (or pixel) as its own group."
      ],
      "metadata": {
        "id": "yaZrq1g-iRVf"
      }
    },
    {
      "cell_type": "code",
      "source": [
        "print(f'# of groups = {X_train_scaled.shape[1]}')"
      ],
      "metadata": {
        "colab": {
          "base_uri": "https://localhost:8080/"
        },
        "id": "QeOadi-xkgVF",
        "outputId": "ac6a7164-ebb6-416d-d426-aa302a62d092"
      },
      "execution_count": 20,
      "outputs": [
        {
          "output_type": "stream",
          "name": "stdout",
          "text": [
            "# of groups = 784\n"
          ]
        }
      ]
    },
    {
      "cell_type": "code",
      "source": [
        "# Initialize and train the model\n",
        "model = LogisticGroupLasso(groups=np.arange(X_train_scaled.shape[1]),\n",
        "                           group_reg=0.05,  # Group regularization strength\n",
        "                           l1_reg=0.01,     # L1 regularization within groups\n",
        "                           n_iter=1000,\n",
        "                           tol=1e-4,\n",
        "                           supress_warning=True\n",
        ")"
      ],
      "metadata": {
        "id": "3OdlKpkzh0P2"
      },
      "execution_count": 8,
      "outputs": []
    },
    {
      "cell_type": "markdown",
      "source": [
        "Fit the model and calculate the accuracy (this takes 8 minutes to run; I  make more groups to improve the computational costs in the next part)."
      ],
      "metadata": {
        "id": "Gy6XC4RPisP7"
      }
    },
    {
      "cell_type": "code",
      "source": [
        "model.fit(X_train_scaled, y_train) # Fit the model using scaled data\n",
        "y_pred = model.predict(X_test_scaled)\n",
        "y_prob = model.predict_proba(X_test_scaled)\n",
        "accuracy = accuracy_score(y_test, y_pred)\n",
        "report = classification_report(y_test, y_pred)\n",
        "\n",
        "print(f\"Accuracy: {accuracy:.4f}\")\n",
        "print(\"Classification Report:\")\n",
        "print(report)"
      ],
      "metadata": {
        "colab": {
          "base_uri": "https://localhost:8080/"
        },
        "id": "tCt-20snhxyp",
        "outputId": "704cc6bd-f81e-448e-d232-fe252ce17558"
      },
      "execution_count": 9,
      "outputs": [
        {
          "output_type": "stream",
          "name": "stdout",
          "text": [
            "Accuracy: 0.8084\n",
            "Classification Report:\n",
            "              precision    recall  f1-score   support\n",
            "\n",
            "           3       0.77      0.87      0.82      1426\n",
            "           5       0.80      0.76      0.78      1257\n",
            "           8       0.86      0.79      0.82      1373\n",
            "\n",
            "    accuracy                           0.81      4056\n",
            "   macro avg       0.81      0.81      0.81      4056\n",
            "weighted avg       0.81      0.81      0.81      4056\n",
            "\n"
          ]
        }
      ]
    },
    {
      "cell_type": "markdown",
      "source": [
        "Visualize the results of the group LASSO."
      ],
      "metadata": {
        "id": "IHEE-8OUjGrj"
      }
    },
    {
      "cell_type": "code",
      "source": [
        "coefficients = model.coef_ # Get the coefficients to see which groups were selected\n",
        "coef_df = pd.DataFrame(coefficients)\n",
        "coef_df.index = X_train.columns\n",
        "coef_df['sum'] = coef_df[0] + coef_df[1] + coef_df[2]\n",
        "bool_musk = coef_df['sum'] != 0\n",
        "nonzero_coef_df = coef_df.loc[bool_musk] #non-zero features\n",
        "relevant_features = list(nonzero_coef_df.index)\n",
        "print(f'There are {len(relevant_features)} nonzero features after applying group LASSO.')\n",
        "print('These are the pixels group LASSO found to be significant in classification of the digit to either 3, 5, or 8.')\n",
        "print(f'\\nPixel List = {relevant_features}')"
      ],
      "metadata": {
        "colab": {
          "base_uri": "https://localhost:8080/"
        },
        "id": "K0YnT5jqrbWZ",
        "outputId": "992905cb-f36b-4302-a95a-57b81fbd13b8"
      },
      "execution_count": 32,
      "outputs": [
        {
          "output_type": "stream",
          "name": "stdout",
          "text": [
            "There are 23 nonzero features after applying group LASSO.\n",
            "These are the pixels group LASSO found to be significant in classification of the digit to either 3, 5, or 8.\n",
            "\n",
            "Pixel List = ['pixel151', 'pixel152', 'pixel153', 'pixel177', 'pixel220', 'pixel291', 'pixel292', 'pixel297', 'pixel318', 'pixel319', 'pixel325', 'pixel327', 'pixel353', 'pixel380', 'pixel381', 'pixel408', 'pixel435', 'pixel462', 'pixel487', 'pixel488', 'pixel489', 'pixel515', 'pixel516']\n"
          ]
        }
      ]
    },
    {
      "cell_type": "code",
      "source": [
        "coef_df['binary'] = coef_df['sum'].apply(lambda x: 0 if x == 0 else 1)\n",
        "image_matrix = coef_df['binary'].values.reshape((28, 28))\n",
        "plt.imshow(image_matrix, cmap='binary')\n",
        "plt.title(f'# of groups = {X_train_scaled.shape[1]}')\n",
        "\n",
        "black_patch = mpatches.Patch(color='black', label='Pixel On')\n",
        "white_patch = mpatches.Patch(color='white', label='Pixel Off')\n",
        "plt.legend(handles=[black_patch, white_patch], loc='upper right') # Add legend\n",
        "\n",
        "plt.show()"
      ],
      "metadata": {
        "colab": {
          "base_uri": "https://localhost:8080/",
          "height": 452
        },
        "id": "tcqH-lHIa39w",
        "outputId": "bf76f96e-6306-4ec5-ccfb-71657367e0a8"
      },
      "execution_count": 54,
      "outputs": [
        {
          "output_type": "display_data",
          "data": {
            "text/plain": [
              "<Figure size 640x480 with 1 Axes>"
            ],
            "image/png": "[encoded data removed]"
          },
          "metadata": {}
        }
      ]
    },
    {
      "cell_type": "markdown",
      "source": [
        "# 1x28 Chunk Grouping"
      ],
      "metadata": {
        "id": "GUSOAb12mSfm"
      }
    },
    {
      "cell_type": "markdown",
      "source": [
        "Now we try to improve the results by using fewer groups:\n",
        "\n",
        "- Encourages more aggressive feature selection (more features dropped together).\n",
        "- Can improve interpretability by selecting entire feature sets.\n",
        "- Helps when features within a group are highly correlated.\n",
        "\n",
        "Let us try creating a group every 28 features (i.e., a hotizontal slice on the image)."
      ],
      "metadata": {
        "id": "4X5oVlmAnBYP"
      }
    },
    {
      "cell_type": "code",
      "source": [
        "# For example, if we want to group by every 10 features:\n",
        "n_features = X_train_scaled.shape[1]\n",
        "group_size = 28  # Choose appropriate size\n",
        "n_groups = (n_features + group_size -1) // group_size\n",
        "\n",
        "# Create groups array with the same length as the number of features\n",
        "groups = np.zeros(n_features, dtype=int)\n",
        "for i in range(n_features):\n",
        "    groups[i] = i // group_size + 1  # Group 1, 2, 3, etc.\n",
        "\n",
        "print(f\"Number of features: {n_features}\")\n",
        "print(f\"Number of groups: {n_groups}\")\n",
        "print(f\"Groups array shape: {groups.shape}\")"
      ],
      "metadata": {
        "colab": {
          "base_uri": "https://localhost:8080/"
        },
        "id": "Y-VFcWrbqrrB",
        "outputId": "8397b99d-cca5-4c73-c910-0c4d44dff1e1"
      },
      "execution_count": 114,
      "outputs": [
        {
          "output_type": "stream",
          "name": "stdout",
          "text": [
            "Number of features: 784\n",
            "Number of groups: 28\n",
            "Groups array shape: (784,)\n"
          ]
        }
      ]
    },
    {
      "cell_type": "markdown",
      "source": [
        "Visualize how we will be grouping an image below!"
      ],
      "metadata": {
        "id": "4hyIZsyNrj5D"
      }
    },
    {
      "cell_type": "code",
      "source": [
        "pd.set_option('display.width', None) # Set display options to show the full width\n",
        "np.set_printoptions(linewidth=200)  # Adjust this number as needed\n",
        "print(groups.reshape((28, 28)))"
      ],
      "metadata": {
        "colab": {
          "base_uri": "https://localhost:8080/"
        },
        "id": "RnTVlEN7rNPZ",
        "outputId": "387483bf-5aff-4b04-e063-b17f6d33282e"
      },
      "execution_count": 115,
      "outputs": [
        {
          "output_type": "stream",
          "name": "stdout",
          "text": [
            "[[ 1  1  1  1  1  1  1  1  1  1  1  1  1  1  1  1  1  1  1  1  1  1  1  1  1  1  1  1]\n",
            " [ 2  2  2  2  2  2  2  2  2  2  2  2  2  2  2  2  2  2  2  2  2  2  2  2  2  2  2  2]\n",
            " [ 3  3  3  3  3  3  3  3  3  3  3  3  3  3  3  3  3  3  3  3  3  3  3  3  3  3  3  3]\n",
            " [ 4  4  4  4  4  4  4  4  4  4  4  4  4  4  4  4  4  4  4  4  4  4  4  4  4  4  4  4]\n",
            " [ 5  5  5  5  5  5  5  5  5  5  5  5  5  5  5  5  5  5  5  5  5  5  5  5  5  5  5  5]\n",
            " [ 6  6  6  6  6  6  6  6  6  6  6  6  6  6  6  6  6  6  6  6  6  6  6  6  6  6  6  6]\n",
            " [ 7  7  7  7  7  7  7  7  7  7  7  7  7  7  7  7  7  7  7  7  7  7  7  7  7  7  7  7]\n",
            " [ 8  8  8  8  8  8  8  8  8  8  8  8  8  8  8  8  8  8  8  8  8  8  8  8  8  8  8  8]\n",
            " [ 9  9  9  9  9  9  9  9  9  9  9  9  9  9  9  9  9  9  9  9  9  9  9  9  9  9  9  9]\n",
            " [10 10 10 10 10 10 10 10 10 10 10 10 10 10 10 10 10 10 10 10 10 10 10 10 10 10 10 10]\n",
            " [11 11 11 11 11 11 11 11 11 11 11 11 11 11 11 11 11 11 11 11 11 11 11 11 11 11 11 11]\n",
            " [12 12 12 12 12 12 12 12 12 12 12 12 12 12 12 12 12 12 12 12 12 12 12 12 12 12 12 12]\n",
            " [13 13 13 13 13 13 13 13 13 13 13 13 13 13 13 13 13 13 13 13 13 13 13 13 13 13 13 13]\n",
            " [14 14 14 14 14 14 14 14 14 14 14 14 14 14 14 14 14 14 14 14 14 14 14 14 14 14 14 14]\n",
            " [15 15 15 15 15 15 15 15 15 15 15 15 15 15 15 15 15 15 15 15 15 15 15 15 15 15 15 15]\n",
            " [16 16 16 16 16 16 16 16 16 16 16 16 16 16 16 16 16 16 16 16 16 16 16 16 16 16 16 16]\n",
            " [17 17 17 17 17 17 17 17 17 17 17 17 17 17 17 17 17 17 17 17 17 17 17 17 17 17 17 17]\n",
            " [18 18 18 18 18 18 18 18 18 18 18 18 18 18 18 18 18 18 18 18 18 18 18 18 18 18 18 18]\n",
            " [19 19 19 19 19 19 19 19 19 19 19 19 19 19 19 19 19 19 19 19 19 19 19 19 19 19 19 19]\n",
            " [20 20 20 20 20 20 20 20 20 20 20 20 20 20 20 20 20 20 20 20 20 20 20 20 20 20 20 20]\n",
            " [21 21 21 21 21 21 21 21 21 21 21 21 21 21 21 21 21 21 21 21 21 21 21 21 21 21 21 21]\n",
            " [22 22 22 22 22 22 22 22 22 22 22 22 22 22 22 22 22 22 22 22 22 22 22 22 22 22 22 22]\n",
            " [23 23 23 23 23 23 23 23 23 23 23 23 23 23 23 23 23 23 23 23 23 23 23 23 23 23 23 23]\n",
            " [24 24 24 24 24 24 24 24 24 24 24 24 24 24 24 24 24 24 24 24 24 24 24 24 24 24 24 24]\n",
            " [25 25 25 25 25 25 25 25 25 25 25 25 25 25 25 25 25 25 25 25 25 25 25 25 25 25 25 25]\n",
            " [26 26 26 26 26 26 26 26 26 26 26 26 26 26 26 26 26 26 26 26 26 26 26 26 26 26 26 26]\n",
            " [27 27 27 27 27 27 27 27 27 27 27 27 27 27 27 27 27 27 27 27 27 27 27 27 27 27 27 27]\n",
            " [28 28 28 28 28 28 28 28 28 28 28 28 28 28 28 28 28 28 28 28 28 28 28 28 28 28 28 28]]\n"
          ]
        }
      ]
    },
    {
      "cell_type": "markdown",
      "source": [
        "Now to run the code as before except tweak the number of groups and see the results."
      ],
      "metadata": {
        "id": "hqYRqkqsrpf8"
      }
    },
    {
      "cell_type": "code",
      "source": [
        "# Initialize and train the model\n",
        "model = LogisticGroupLasso(groups=groups,\n",
        "                           group_reg=0.05,  # Group regularization strength\n",
        "                           l1_reg=0.01,     # L1 regularization within groups\n",
        "                           n_iter=1000,\n",
        "                           tol=1e-4,\n",
        "                           supress_warning=True\n",
        ")"
      ],
      "metadata": {
        "id": "_37caStnrpNk"
      },
      "execution_count": 116,
      "outputs": []
    },
    {
      "cell_type": "code",
      "source": [
        "model.fit(X_train_scaled, y_train) # Fit the model using scaled data\n",
        "y_pred = model.predict(X_test_scaled)\n",
        "y_prob = model.predict_proba(X_test_scaled)\n",
        "accuracy = accuracy_score(y_test, y_pred)\n",
        "report = classification_report(y_test, y_pred)\n",
        "\n",
        "print(f\"Accuracy: {accuracy:.4f}\")\n",
        "print(\"Classification Report:\")\n",
        "print(report)"
      ],
      "metadata": {
        "colab": {
          "base_uri": "https://localhost:8080/"
        },
        "id": "vLjnFWJ6r3td",
        "outputId": "b9115a80-f305-48f0-c56a-a1ad9fdd054a"
      },
      "execution_count": 117,
      "outputs": [
        {
          "output_type": "stream",
          "name": "stdout",
          "text": [
            "Accuracy: 0.8099\n",
            "Classification Report:\n",
            "              precision    recall  f1-score   support\n",
            "\n",
            "           3       0.74      0.90      0.81      1426\n",
            "           5       0.89      0.64      0.75      1257\n",
            "           8       0.84      0.87      0.86      1373\n",
            "\n",
            "    accuracy                           0.81      4056\n",
            "   macro avg       0.82      0.80      0.80      4056\n",
            "weighted avg       0.82      0.81      0.81      4056\n",
            "\n"
          ]
        }
      ]
    },
    {
      "cell_type": "code",
      "source": [
        "coefficients = model.coef_ # Get the coefficients to see which groups were selected\n",
        "coef_df = pd.DataFrame(coefficients)\n",
        "coef_df.index = X_train.columns\n",
        "coef_df['sum'] = coef_df[0] + coef_df[1] + coef_df[2]\n",
        "bool_musk = coef_df['sum'] != 0\n",
        "nonzero_coef_df = coef_df.loc[bool_musk] #non-zero features\n",
        "relevant_features = list(nonzero_coef_df.index)\n",
        "print(f'There are {len(relevant_features)} nonzero features after applying group LASSO.')\n",
        "print('These are the pixels group LASSO found to be significant in classification of the digit to either 3, 5, or 8.')\n",
        "print(f'\\nPixel List = {relevant_features}')"
      ],
      "metadata": {
        "colab": {
          "base_uri": "https://localhost:8080/"
        },
        "id": "ORN5OC-ur5y_",
        "outputId": "14a4aa4d-2614-4a58-9cb4-fe3e0981bb2f"
      },
      "execution_count": 118,
      "outputs": [
        {
          "output_type": "stream",
          "name": "stdout",
          "text": [
            "There are 42 nonzero features after applying group LASSO.\n",
            "These are the pixels group LASSO found to be significant in classification of the digit to either 3, 5, or 8.\n",
            "\n",
            "Pixel List = ['pixel312', 'pixel315', 'pixel316', 'pixel317', 'pixel318', 'pixel319', 'pixel320', 'pixel321', 'pixel322', 'pixel323', 'pixel324', 'pixel325', 'pixel326', 'pixel327', 'pixel328', 'pixel329', 'pixel330', 'pixel331', 'pixel332', 'pixel333', 'pixel334', 'pixel479', 'pixel480', 'pixel481', 'pixel482', 'pixel483', 'pixel484', 'pixel485', 'pixel486', 'pixel487', 'pixel488', 'pixel489', 'pixel490', 'pixel491', 'pixel492', 'pixel493', 'pixel494', 'pixel495', 'pixel496', 'pixel497', 'pixel498', 'pixel499']\n"
          ]
        }
      ]
    },
    {
      "cell_type": "code",
      "source": [
        "coef_df['binary'] = coef_df['sum'].apply(lambda x: 0 if x == 0 else 1)\n",
        "image_matrix = coef_df['binary'].values.reshape((28, 28))\n",
        "plt.imshow(image_matrix, cmap='binary')\n",
        "plt.title(f'# of groups = {28}')\n",
        "\n",
        "black_patch = mpatches.Patch(color='black', label='Pixel On')\n",
        "white_patch = mpatches.Patch(color='white', label='Pixel Off')\n",
        "plt.legend(handles=[black_patch, white_patch], loc='upper right') # Add legend\n",
        "\n",
        "plt.show()"
      ],
      "metadata": {
        "colab": {
          "base_uri": "https://localhost:8080/",
          "height": 452
        },
        "id": "U8jx35RIr7R5",
        "outputId": "b4dcab0d-a275-4c81-de7c-6fb464ce7db2"
      },
      "execution_count": 119,
      "outputs": [
        {
          "output_type": "display_data",
          "data": {
            "text/plain": [
              "<Figure size 640x480 with 1 Axes>"
            ],
            "image/png": "[encoded data removed]"
          },
          "metadata": {}
        }
      ]
    },
    {
      "cell_type": "markdown",
      "source": [
        "Eh, this is not desirable.  Poor results.  Lets try a 2x1 groups!"
      ],
      "metadata": {
        "id": "EDCFAnOwsq-S"
      }
    },
    {
      "cell_type": "markdown",
      "source": [
        "# 2x1 Chunk Grouping"
      ],
      "metadata": {
        "id": "aOhf3E-vsxa8"
      }
    },
    {
      "cell_type": "code",
      "source": [
        "# Create a 28x28 matrix with paired numbers that continue across rows\n",
        "rows = 28\n",
        "cols = 28\n",
        "pairs_per_row = cols // 2  # How many pairs in each row\n",
        "\n",
        "# Initialize the matrix\n",
        "groups = np.zeros((rows, cols), dtype=int)\n",
        "\n",
        "# Fill the matrix with pairs of continuing numbers\n",
        "for i in range(rows):\n",
        "    row_numbers = []\n",
        "    start_number = i * pairs_per_row + 1\n",
        "    for j in range(pairs_per_row):\n",
        "        current_number = start_number + j\n",
        "        row_numbers.extend([current_number, current_number])\n",
        "    groups[i] = row_numbers\n"
      ],
      "metadata": {
        "id": "-e4PZXKds7xN"
      },
      "execution_count": 101,
      "outputs": []
    },
    {
      "cell_type": "markdown",
      "source": [
        "The groups can be visualized by 1x2 chunks in a 28x28 image.  As given below:"
      ],
      "metadata": {
        "id": "zgR2HbEVwM2d"
      }
    },
    {
      "cell_type": "code",
      "source": [
        "# Print the matrix with proper alignment\n",
        "for row in groups:\n",
        "    formatted_row = []\n",
        "    for num in row:\n",
        "        # Format each individual number, not the entire array\n",
        "        formatted_row.append(f\"{num:3d}\")\n",
        "    print(\"[\" + \" \".join(formatted_row) + \"]\")"
      ],
      "metadata": {
        "colab": {
          "base_uri": "https://localhost:8080/"
        },
        "id": "BzqFmqQuvikA",
        "outputId": "f5bf5699-0d9c-4190-cbda-e7bd6c1928b7"
      },
      "execution_count": 102,
      "outputs": [
        {
          "output_type": "stream",
          "name": "stdout",
          "text": [
            "[  1   1   2   2   3   3   4   4   5   5   6   6   7   7   8   8   9   9  10  10  11  11  12  12  13  13  14  14]\n",
            "[ 15  15  16  16  17  17  18  18  19  19  20  20  21  21  22  22  23  23  24  24  25  25  26  26  27  27  28  28]\n",
            "[ 29  29  30  30  31  31  32  32  33  33  34  34  35  35  36  36  37  37  38  38  39  39  40  40  41  41  42  42]\n",
            "[ 43  43  44  44  45  45  46  46  47  47  48  48  49  49  50  50  51  51  52  52  53  53  54  54  55  55  56  56]\n",
            "[ 57  57  58  58  59  59  60  60  61  61  62  62  63  63  64  64  65  65  66  66  67  67  68  68  69  69  70  70]\n",
            "[ 71  71  72  72  73  73  74  74  75  75  76  76  77  77  78  78  79  79  80  80  81  81  82  82  83  83  84  84]\n",
            "[ 85  85  86  86  87  87  88  88  89  89  90  90  91  91  92  92  93  93  94  94  95  95  96  96  97  97  98  98]\n",
            "[ 99  99 100 100 101 101 102 102 103 103 104 104 105 105 106 106 107 107 108 108 109 109 110 110 111 111 112 112]\n",
            "[113 113 114 114 115 115 116 116 117 117 118 118 119 119 120 120 121 121 122 122 123 123 124 124 125 125 126 126]\n",
            "[127 127 128 128 129 129 130 130 131 131 132 132 133 133 134 134 135 135 136 136 137 137 138 138 139 139 140 140]\n",
            "[141 141 142 142 143 143 144 144 145 145 146 146 147 147 148 148 149 149 150 150 151 151 152 152 153 153 154 154]\n",
            "[155 155 156 156 157 157 158 158 159 159 160 160 161 161 162 162 163 163 164 164 165 165 166 166 167 167 168 168]\n",
            "[169 169 170 170 171 171 172 172 173 173 174 174 175 175 176 176 177 177 178 178 179 179 180 180 181 181 182 182]\n",
            "[183 183 184 184 185 185 186 186 187 187 188 188 189 189 190 190 191 191 192 192 193 193 194 194 195 195 196 196]\n",
            "[197 197 198 198 199 199 200 200 201 201 202 202 203 203 204 204 205 205 206 206 207 207 208 208 209 209 210 210]\n",
            "[211 211 212 212 213 213 214 214 215 215 216 216 217 217 218 218 219 219 220 220 221 221 222 222 223 223 224 224]\n",
            "[225 225 226 226 227 227 228 228 229 229 230 230 231 231 232 232 233 233 234 234 235 235 236 236 237 237 238 238]\n",
            "[239 239 240 240 241 241 242 242 243 243 244 244 245 245 246 246 247 247 248 248 249 249 250 250 251 251 252 252]\n",
            "[253 253 254 254 255 255 256 256 257 257 258 258 259 259 260 260 261 261 262 262 263 263 264 264 265 265 266 266]\n",
            "[267 267 268 268 269 269 270 270 271 271 272 272 273 273 274 274 275 275 276 276 277 277 278 278 279 279 280 280]\n",
            "[281 281 282 282 283 283 284 284 285 285 286 286 287 287 288 288 289 289 290 290 291 291 292 292 293 293 294 294]\n",
            "[295 295 296 296 297 297 298 298 299 299 300 300 301 301 302 302 303 303 304 304 305 305 306 306 307 307 308 308]\n",
            "[309 309 310 310 311 311 312 312 313 313 314 314 315 315 316 316 317 317 318 318 319 319 320 320 321 321 322 322]\n",
            "[323 323 324 324 325 325 326 326 327 327 328 328 329 329 330 330 331 331 332 332 333 333 334 334 335 335 336 336]\n",
            "[337 337 338 338 339 339 340 340 341 341 342 342 343 343 344 344 345 345 346 346 347 347 348 348 349 349 350 350]\n",
            "[351 351 352 352 353 353 354 354 355 355 356 356 357 357 358 358 359 359 360 360 361 361 362 362 363 363 364 364]\n",
            "[365 365 366 366 367 367 368 368 369 369 370 370 371 371 372 372 373 373 374 374 375 375 376 376 377 377 378 378]\n",
            "[379 379 380 380 381 381 382 382 383 383 384 384 385 385 386 386 387 387 388 388 389 389 390 390 391 391 392 392]\n"
          ]
        }
      ]
    },
    {
      "cell_type": "markdown",
      "source": [
        "Reshape into array to feed it into the model."
      ],
      "metadata": {
        "id": "c--QdeCfxVKj"
      }
    },
    {
      "cell_type": "code",
      "source": [
        "groups = groups.reshape((1,784))[0]"
      ],
      "metadata": {
        "id": "QKCWjwdwxYkU"
      },
      "execution_count": 107,
      "outputs": []
    },
    {
      "cell_type": "markdown",
      "source": [
        "Now to fit Group LASSO Multinomial Regression on this group schematic!"
      ],
      "metadata": {
        "id": "47UoTQUnwjfR"
      }
    },
    {
      "cell_type": "code",
      "source": [
        "# Initialize and train the model\n",
        "model = LogisticGroupLasso(groups=groups,\n",
        "                           group_reg=0.05,  # Group regularization strength\n",
        "                           l1_reg=0.01,     # L1 regularization within groups\n",
        "                           n_iter=1000,\n",
        "                           tol=1e-4,\n",
        "                           supress_warning=True\n",
        ")"
      ],
      "metadata": {
        "id": "A8lKJwp3whxK"
      },
      "execution_count": 108,
      "outputs": []
    },
    {
      "cell_type": "code",
      "source": [
        "model.fit(X_train_scaled, y_train) # Fit the model using scaled data\n",
        "y_pred = model.predict(X_test_scaled)\n",
        "y_prob = model.predict_proba(X_test_scaled)\n",
        "accuracy = accuracy_score(y_test, y_pred)\n",
        "report = classification_report(y_test, y_pred)\n",
        "\n",
        "print(f\"Accuracy: {accuracy:.4f}\")\n",
        "print(\"Classification Report:\")\n",
        "print(report)"
      ],
      "metadata": {
        "colab": {
          "base_uri": "https://localhost:8080/"
        },
        "id": "OMJfT93_wr44",
        "outputId": "9bb519f2-c692-427d-fba3-237349644568"
      },
      "execution_count": 109,
      "outputs": [
        {
          "output_type": "stream",
          "name": "stdout",
          "text": [
            "Accuracy: 0.8151\n",
            "Classification Report:\n",
            "              precision    recall  f1-score   support\n",
            "\n",
            "           3       0.78      0.88      0.83      1426\n",
            "           5       0.81      0.76      0.78      1257\n",
            "           8       0.86      0.81      0.83      1373\n",
            "\n",
            "    accuracy                           0.82      4056\n",
            "   macro avg       0.82      0.81      0.81      4056\n",
            "weighted avg       0.82      0.82      0.81      4056\n",
            "\n"
          ]
        }
      ]
    },
    {
      "cell_type": "code",
      "source": [
        "coefficients = model.coef_ # Get the coefficients to see which groups were selected\n",
        "coef_df = pd.DataFrame(coefficients)\n",
        "coef_df.index = X_train.columns\n",
        "coef_df['sum'] = coef_df[0] + coef_df[1] + coef_df[2]\n",
        "bool_musk = coef_df['sum'] != 0\n",
        "nonzero_coef_df = coef_df.loc[bool_musk] #non-zero features\n",
        "relevant_features = list(nonzero_coef_df.index)\n",
        "print(f'There are {len(relevant_features)} nonzero features after applying group LASSO.')\n",
        "print('These are the pixels group LASSO found to be significant in classification of the digit to either 3, 5, or 8.')\n",
        "print(f'\\nPixel List = {relevant_features}')"
      ],
      "metadata": {
        "colab": {
          "base_uri": "https://localhost:8080/"
        },
        "id": "r7Y6hmCfx5us",
        "outputId": "9d45b043-9311-4dea-c5d5-f94b58f3ef17"
      },
      "execution_count": 110,
      "outputs": [
        {
          "output_type": "stream",
          "name": "stdout",
          "text": [
            "There are 38 nonzero features after applying group LASSO.\n",
            "These are the pixels group LASSO found to be significant in classification of the digit to either 3, 5, or 8.\n",
            "\n",
            "Pixel List = ['pixel151', 'pixel152', 'pixel153', 'pixel154', 'pixel177', 'pixel178', 'pixel191', 'pixel192', 'pixel219', 'pixel220', 'pixel291', 'pixel292', 'pixel297', 'pixel298', 'pixel317', 'pixel318', 'pixel319', 'pixel320', 'pixel325', 'pixel326', 'pixel327', 'pixel328', 'pixel345', 'pixel346', 'pixel351', 'pixel352', 'pixel353', 'pixel354', 'pixel407', 'pixel408', 'pixel461', 'pixel462', 'pixel487', 'pixel488', 'pixel489', 'pixel490', 'pixel515', 'pixel516']\n"
          ]
        }
      ]
    },
    {
      "cell_type": "code",
      "source": [
        "coef_df['binary'] = coef_df['sum'].apply(lambda x: 0 if x == 0 else 1)\n",
        "image_matrix = coef_df['binary'].values.reshape((28, 28))\n",
        "plt.imshow(image_matrix, cmap='binary')\n",
        "plt.title(f'# of groups = {392}')\n",
        "\n",
        "black_patch = mpatches.Patch(color='black', label='Pixel On')\n",
        "white_patch = mpatches.Patch(color='white', label='Pixel Off')\n",
        "plt.legend(handles=[black_patch, white_patch], loc='upper right') # Add legend\n",
        "\n",
        "plt.show()"
      ],
      "metadata": {
        "colab": {
          "base_uri": "https://localhost:8080/",
          "height": 452
        },
        "id": "KkwTWPt-x8zU",
        "outputId": "b18675e5-636a-464f-9990-423b4911bc34"
      },
      "execution_count": 113,
      "outputs": [
        {
          "output_type": "display_data",
          "data": {
            "text/plain": [
              "<Figure size 640x480 with 1 Axes>"
            ],
            "image/png": "[encoded data removed]"
          },
          "metadata": {}
        }
      ]
    },
    {
      "cell_type": "markdown",
      "source": [
        "This looks a bit nicer then the single pixel group and the accuracy has improved.  I bet the accuracy would improve if we implemented 4x4 chunks of pixels as groups!  Lets try this."
      ],
      "metadata": {
        "id": "tJtbFAmIzHwq"
      }
    },
    {
      "cell_type": "markdown",
      "source": [
        "# 4x4 Chunk Grouping"
      ],
      "metadata": {
        "id": "e1nGHv8kzXYV"
      }
    },
    {
      "cell_type": "code",
      "source": [
        "# insert"
      ],
      "metadata": {
        "id": "bo8dmWxkzVp1"
      },
      "execution_count": null,
      "outputs": []
    }
  ]
}
