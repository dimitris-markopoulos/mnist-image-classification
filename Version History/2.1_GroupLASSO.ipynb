{
  "nbformat": 4,
  "nbformat_minor": 0,
  "metadata": {
    "colab": {
      "provenance": []
    },
    "kernelspec": {
      "name": "python3",
      "display_name": "Python 3"
    },
    "language_info": {
      "name": "python"
    }
  },
  "cells": [
    {
      "cell_type": "markdown",
      "source": [
        "Import required libraries."
      ],
      "metadata": {
        "id": "b7qNVULVa83D"
      }
    },
    {
      "cell_type": "code",
      "source": [
        "!pip install group-lasso --quiet"
      ],
      "metadata": {
        "id": "OB8z1SRWcRZ4"
      },
      "execution_count": 1,
      "outputs": []
    },
    {
      "cell_type": "code",
      "source": [
        "!pip install rpy2 --quiet"
      ],
      "metadata": {
        "id": "zDfyxQmbGmhP"
      },
      "execution_count": 72,
      "outputs": []
    },
    {
      "cell_type": "code",
      "source": [
        "# !pip install --user glmnet_py\n",
        "# !pip install --upgrade scipy --quiet\n",
        "# !pip uninstall -y scipy\n",
        "# !pip install scipy==1.13.1"
      ],
      "metadata": {
        "id": "Jp5CJr7H91Xp"
      },
      "execution_count": 37,
      "outputs": []
    },
    {
      "cell_type": "code",
      "source": [
        "from group_lasso import LogisticGroupLasso\n",
        "from sklearn.datasets import fetch_openml\n",
        "import pandas as pd\n",
        "import numpy as np\n",
        "import matplotlib\n",
        "import matplotlib.pyplot as plt\n",
        "import seaborn as sns\n",
        "from sklearn.preprocessing import StandardScaler\n",
        "from sklearn.linear_model import LogisticRegression, LogisticRegressionCV\n",
        "from group_lasso import GroupLasso\n",
        "from sklearn.metrics import accuracy_score\n",
        "import rpy2.robjects as ro\n",
        "import rpy2.robjects.numpy2ri as np2ri"
      ],
      "metadata": {
        "id": "2LkDaXwscKP-"
      },
      "execution_count": 85,
      "outputs": []
    },
    {
      "cell_type": "code",
      "source": [
        "ro.r('install.packages(\"glmnet\")') #install glment which is a package in R"
      ],
      "metadata": {
        "colab": {
          "base_uri": "https://localhost:8080/"
        },
        "collapsed": true,
        "id": "fmSc2m52HC3w",
        "outputId": "414412ec-21b8-4786-d999-9992c705b9d9"
      },
      "execution_count": 75,
      "outputs": [
        {
          "output_type": "stream",
          "name": "stderr",
          "text": [
            "WARNING:rpy2.rinterface_lib.callbacks:R[write to console]: Installing package into ‘/usr/local/lib/R/site-library’\n",
            "(as ‘lib’ is unspecified)\n",
            "\n",
            "WARNING:rpy2.rinterface_lib.callbacks:R[write to console]: trying URL 'https://cran.rstudio.com/src/contrib/glmnet_4.1-8.tar.gz'\n",
            "\n",
            "WARNING:rpy2.rinterface_lib.callbacks:R[write to console]: Content type 'application/x-gzip'\n",
            "WARNING:rpy2.rinterface_lib.callbacks:R[write to console]:  length 2439515 bytes (2.3 MB)\n",
            "\n",
            "WARNING:rpy2.rinterface_lib.callbacks:R[write to console]: =\n",
            "WARNING:rpy2.rinterface_lib.callbacks:R[write to console]: =\n",
            "WARNING:rpy2.rinterface_lib.callbacks:R[write to console]: =\n",
            "WARNING:rpy2.rinterface_lib.callbacks:R[write to console]: =\n",
            "WARNING:rpy2.rinterface_lib.callbacks:R[write to console]: =\n",
            "WARNING:rpy2.rinterface_lib.callbacks:R[write to console]: =\n",
            "WARNING:rpy2.rinterface_lib.callbacks:R[write to console]: =\n",
            "WARNING:rpy2.rinterface_lib.callbacks:R[write to console]: =\n",
            "WARNING:rpy2.rinterface_lib.callbacks:R[write to console]: =\n",
            "WARNING:rpy2.rinterface_lib.callbacks:R[write to console]: =\n",
            "WARNING:rpy2.rinterface_lib.callbacks:R[write to console]: =\n",
            "WARNING:rpy2.rinterface_lib.callbacks:R[write to console]: =\n",
            "WARNING:rpy2.rinterface_lib.callbacks:R[write to console]: =\n",
            "WARNING:rpy2.rinterface_lib.callbacks:R[write to console]: =\n",
            "WARNING:rpy2.rinterface_lib.callbacks:R[write to console]: =\n",
            "WARNING:rpy2.rinterface_lib.callbacks:R[write to console]: =\n",
            "WARNING:rpy2.rinterface_lib.callbacks:R[write to console]: =\n",
            "WARNING:rpy2.rinterface_lib.callbacks:R[write to console]: =\n",
            "WARNING:rpy2.rinterface_lib.callbacks:R[write to console]: =\n",
            "WARNING:rpy2.rinterface_lib.callbacks:R[write to console]: =\n",
            "WARNING:rpy2.rinterface_lib.callbacks:R[write to console]: =\n",
            "WARNING:rpy2.rinterface_lib.callbacks:R[write to console]: =\n",
            "WARNING:rpy2.rinterface_lib.callbacks:R[write to console]: =\n",
            "WARNING:rpy2.rinterface_lib.callbacks:R[write to console]: =\n",
            "WARNING:rpy2.rinterface_lib.callbacks:R[write to console]: =\n",
            "WARNING:rpy2.rinterface_lib.callbacks:R[write to console]: =\n",
            "WARNING:rpy2.rinterface_lib.callbacks:R[write to console]: =\n",
            "WARNING:rpy2.rinterface_lib.callbacks:R[write to console]: =\n",
            "WARNING:rpy2.rinterface_lib.callbacks:R[write to console]: =\n",
            "WARNING:rpy2.rinterface_lib.callbacks:R[write to console]: =\n",
            "WARNING:rpy2.rinterface_lib.callbacks:R[write to console]: =\n",
            "WARNING:rpy2.rinterface_lib.callbacks:R[write to console]: =\n",
            "WARNING:rpy2.rinterface_lib.callbacks:R[write to console]: =\n",
            "WARNING:rpy2.rinterface_lib.callbacks:R[write to console]: =\n",
            "WARNING:rpy2.rinterface_lib.callbacks:R[write to console]: =\n",
            "WARNING:rpy2.rinterface_lib.callbacks:R[write to console]: =\n",
            "WARNING:rpy2.rinterface_lib.callbacks:R[write to console]: =\n",
            "WARNING:rpy2.rinterface_lib.callbacks:R[write to console]: =\n",
            "WARNING:rpy2.rinterface_lib.callbacks:R[write to console]: =\n",
            "WARNING:rpy2.rinterface_lib.callbacks:R[write to console]: =\n",
            "WARNING:rpy2.rinterface_lib.callbacks:R[write to console]: =\n",
            "WARNING:rpy2.rinterface_lib.callbacks:R[write to console]: =\n",
            "WARNING:rpy2.rinterface_lib.callbacks:R[write to console]: =\n",
            "WARNING:rpy2.rinterface_lib.callbacks:R[write to console]: =\n",
            "WARNING:rpy2.rinterface_lib.callbacks:R[write to console]: =\n",
            "WARNING:rpy2.rinterface_lib.callbacks:R[write to console]: =\n",
            "WARNING:rpy2.rinterface_lib.callbacks:R[write to console]: =\n",
            "WARNING:rpy2.rinterface_lib.callbacks:R[write to console]: =\n",
            "WARNING:rpy2.rinterface_lib.callbacks:R[write to console]: =\n",
            "WARNING:rpy2.rinterface_lib.callbacks:R[write to console]: =\n",
            "WARNING:rpy2.rinterface_lib.callbacks:R[write to console]: \n",
            "\n",
            "WARNING:rpy2.rinterface_lib.callbacks:R[write to console]: downloaded 2.3 MB\n",
            "\n",
            "\n",
            "WARNING:rpy2.rinterface_lib.callbacks:R[write to console]: \n",
            "\n",
            "WARNING:rpy2.rinterface_lib.callbacks:R[write to console]: \n",
            "WARNING:rpy2.rinterface_lib.callbacks:R[write to console]: The downloaded source packages are in\n",
            "\t‘/tmp/RtmpCANoAt/downloaded_packages’\n",
            "WARNING:rpy2.rinterface_lib.callbacks:R[write to console]: \n",
            "WARNING:rpy2.rinterface_lib.callbacks:R[write to console]: \n",
            "\n"
          ]
        }
      ]
    },
    {
      "cell_type": "markdown",
      "source": [
        "Initialize notebook 2 with the code from notebook 0."
      ],
      "metadata": {
        "id": "tCP78-hiapwq"
      }
    },
    {
      "cell_type": "code",
      "source": [
        "# Load Dataset\n",
        "mnist = fetch_openml(\"mnist_784\")\n",
        "\n",
        "# Filter and Prepare Dataset\n",
        "keys = list(mnist.keys())\n",
        "df = pd.concat([mnist[keys[0]],mnist[keys[1]]],axis=1)\n",
        "df['class'] = df['class'].apply(lambda x: int(x))\n",
        "bool_musk = df['class'].isin([3,5,8])\n",
        "df = df.loc[bool_musk].reset_index(drop=True)\n",
        "\n",
        "# Split data into training and testing\n",
        "cutoff = int(df.shape[0]*(0.8))\n",
        "X, y = df.iloc[:,:-1], df['class']\n",
        "X_train, X_test = X[:cutoff], X[cutoff:]\n",
        "y_train, y_test = y[:cutoff], y[cutoff:]\n",
        "\n",
        "# Randomize the split\n",
        "n = X_train.shape[0]\n",
        "rand = np.random.permutation(n)\n",
        "X_train = X_train.iloc[list(rand),:].reset_index(drop = True)\n",
        "y_train = y_train[rand].reset_index(drop = True)\n",
        "\n",
        "assert X_train.shape[0] + X_test.shape[0] == df.shape[0], 'ERROR'\n",
        "assert X_train.shape[1] == X_test.shape[1] == df.shape[1] - 1, 'ERROR' #class column == y\n",
        "assert y_train.shape[0] + y_test.shape[0] == df.shape[0], 'ERROR'\n",
        "\n",
        "# Formats\n",
        "print(f'X_train: {X_train.shape},\\nX_test: {X_test.shape},\\ny_train: {y_train.shape},\\ny_test: {y_test.shape}')\n",
        "\n",
        "# Scale the data\n",
        "scaler = StandardScaler()\n",
        "X_train_scaled = scaler.fit_transform(X_train)\n",
        "X_test_scaled = scaler.transform(X_test)"
      ],
      "metadata": {
        "colab": {
          "base_uri": "https://localhost:8080/"
        },
        "id": "9IzGq8WjaHN4",
        "outputId": "8817781d-6aac-42b6-db93-3275b108f35b"
      },
      "execution_count": 76,
      "outputs": [
        {
          "output_type": "stream",
          "name": "stdout",
          "text": [
            "X_train: (16223, 784),\n",
            "X_test: (4056, 784),\n",
            "y_train: (16223,),\n",
            "y_test: (4056,)\n"
          ]
        }
      ]
    },
    {
      "cell_type": "markdown",
      "source": [
        "Apply group-lasso regularized multinomial logistic regression to select\n",
        "features that separate the three digits.  The package glmnet supports this but is only available in R (with the exception of some wrappers but they were not working).  Therefore we will convert to R and run the glmnet package."
      ],
      "metadata": {
        "id": "158_pQ7Ybo3e"
      }
    },
    {
      "cell_type": "code",
      "source": [
        "# Define a simple grouping for demonstration (group features by column index)\n",
        "num_features = X_train_scaled.shape[1]\n",
        "groups = np.repeat(np.arange(1, num_features + 1), 1)  # one group per feature\n",
        "\n",
        "# Convert the groups to R\n",
        "groups_r = ro.IntVector(groups)\n",
        "ro.r.assign(\"groups\", groups_r)\n",
        "\n",
        "# Fit the multinomial group lasso model using glmnet\n",
        "ro.r('''\n",
        "fit <- glmnet(X_train_scaled, y_train, family=\"multinomial\", alpha=1, group=groups)\n",
        "''')"
      ],
      "metadata": {
        "id": "Zbpj4-XVI3mZ"
      },
      "execution_count": 90,
      "outputs": []
    },
    {
      "cell_type": "code",
      "source": [
        "# Convert to R format\n",
        "X_train_r = ro.r['matrix'](np2ri.numpy2rpy(X_train_scaled), nrow=X_train_scaled.shape[0], ncol=X_train_scaled.shape[1])\n",
        "y_train_r = ro.IntVector(y_train)\n",
        "\n",
        "# Convert Data to R in order to use glmnet\n",
        "ro.r.assign(\"X_train_scaled\", X_train_r)\n",
        "ro.r.assign(\"y_train\", y_train_r)\n",
        "\n",
        "# Define a simple grouping for demonstration (group features by column index)\n",
        "num_features = X_train_scaled.shape[1]\n",
        "groups = np.repeat(np.arange(1, num_features + 1), 1)  # one group per feature\n",
        "\n",
        "# Convert the groups to R\n",
        "groups_r = ro.IntVector(groups)\n",
        "ro.r.assign(\"groups\", groups_r)"
      ],
      "metadata": {
        "colab": {
          "base_uri": "https://localhost:8080/",
          "height": 58
        },
        "id": "4fLqJlPgIVLb",
        "outputId": "b4582b39-386e-4402-8f1a-e008ab5f5bf8"
      },
      "execution_count": 105,
      "outputs": [
        {
          "output_type": "execute_result",
          "data": {
            "text/plain": [
              "<rpy2.robjects.vectors.IntVector object at 0x7a0ceb267650> [13]\n",
              "R classes: ('integer',)\n",
              "[1, 2, 3, 4, ..., 781, 782, 783, 784]"
            ],
            "text/html": [
              "\n",
              "        <span>IntVector with 784 elements.</span>\n",
              "        <table>\n",
              "        <tbody>\n",
              "          <tr>\n",
              "          \n",
              "            <td>\n",
              "            1\n",
              "            </td>\n",
              "          \n",
              "            <td>\n",
              "            2\n",
              "            </td>\n",
              "          \n",
              "            <td>\n",
              "            3\n",
              "            </td>\n",
              "          \n",
              "            <td>\n",
              "            ...\n",
              "            </td>\n",
              "          \n",
              "            <td>\n",
              "            782\n",
              "            </td>\n",
              "          \n",
              "            <td>\n",
              "            783\n",
              "            </td>\n",
              "          \n",
              "            <td>\n",
              "            784\n",
              "            </td>\n",
              "          \n",
              "          </tr>\n",
              "        </tbody>\n",
              "        </table>\n",
              "        "
            ]
          },
          "metadata": {},
          "execution_count": 105
        }
      ]
    },
    {
      "cell_type": "code",
      "source": [
        "# Fit the multinomial group Lasso model using glmnet\n",
        "ro.r('''\n",
        "library(glmnet)\n",
        "\n",
        "# Fit the model with multinomial family and group Lasso\n",
        "fit <- glmnet(X_train_scaled, y_train, family = \"multinomial\", alpha = 1, group = groups)\n",
        "\n",
        "# Store the model fit\n",
        "fit\n",
        "\n",
        "# Plot the regularization path\n",
        "plot(fit, xvar = \"lambda\", label = TRUE)\n",
        "''')\n",
        "\n",
        "# Extract coefficients and lambda values from the fitted model\n",
        "fit_result = ro.r('fit')\n",
        "fit_lambda = ro.r('fit$lambda')  # Lambda values from the model\n",
        "coefficients = ro.r('fit$beta')  # Coefficients from the model\n",
        "\n",
        "# Convert coefficients into a NumPy array for plotting\n",
        "coefficients_list = list(coefficients)\n",
        "coefficients_np = np.array(coefficients_list)"
      ],
      "metadata": {
        "id": "Oq9VT3SmK1kz"
      },
      "execution_count": 132,
      "outputs": []
    },
    {
      "cell_type": "code",
      "source": [
        "# Df: Number of non-zero coefficients in the model for each value of lambda.\n",
        "# %Dev: The percentage of deviance explained by the model at each regularization step.\n",
        "# Lambda: The value of the regularization parameter (lambda), which controls the strength of the penalization.\n",
        "print(fit_result)"
      ],
      "metadata": {
        "colab": {
          "base_uri": "https://localhost:8080/"
        },
        "id": "P8GAM_-1I8kb",
        "outputId": "42210700-cb0f-4525-8706-49846ec785ca"
      },
      "execution_count": 128,
      "outputs": [
        {
          "output_type": "stream",
          "name": "stdout",
          "text": [
            "\n",
            "Call:  glmnet(x = X_train_scaled, y = y_train, family = \"multinomial\",      alpha = 1, group = groups) \n",
            "\n",
            "     Df  %Dev   Lambda\n",
            "1     0  0.00 0.312300\n",
            "2     2  3.62 0.284500\n",
            "3     2  6.63 0.259200\n",
            "4     3  9.15 0.236200\n",
            "5     3 11.32 0.215200\n",
            "6     5 13.94 0.196100\n",
            "7     8 17.91 0.178700\n",
            "8    11 21.87 0.162800\n",
            "9    12 25.42 0.148400\n",
            "10   15 28.70 0.135200\n",
            "11   20 32.04 0.123200\n",
            "12   21 35.32 0.112200\n",
            "13   25 38.32 0.102300\n",
            "14   26 41.06 0.093170\n",
            "15   28 43.55 0.084890\n",
            "16   32 45.90 0.077350\n",
            "17   34 48.10 0.070480\n",
            "18   38 50.10 0.064220\n",
            "19   45 52.07 0.058510\n",
            "20   52 54.01 0.053310\n",
            "21   55 55.85 0.048580\n",
            "22   61 57.56 0.044260\n",
            "23   71 59.20 0.040330\n",
            "24   81 60.78 0.036750\n",
            "25   83 62.26 0.033480\n",
            "26   93 63.67 0.030510\n",
            "27  100 65.02 0.027800\n",
            "28  105 66.29 0.025330\n",
            "29  112 67.48 0.023080\n",
            "30  120 68.63 0.021030\n",
            "31  129 69.72 0.019160\n",
            "32  136 70.75 0.017460\n",
            "33  142 71.70 0.015910\n",
            "34  145 72.57 0.014490\n",
            "35  153 73.40 0.013210\n",
            "36  161 74.19 0.012030\n",
            "37  166 74.92 0.010960\n",
            "38  174 75.60 0.009990\n",
            "39  185 76.26 0.009103\n",
            "40  193 76.87 0.008294\n",
            "41  202 77.46 0.007557\n",
            "42  213 78.01 0.006886\n",
            "43  221 78.52 0.006274\n",
            "44  230 79.00 0.005717\n",
            "45  233 79.45 0.005209\n",
            "46  244 79.87 0.004746\n",
            "47  249 80.25 0.004324\n",
            "48  259 80.60 0.003940\n",
            "49  266 80.93 0.003590\n",
            "50  273 81.25 0.003271\n",
            "51  278 81.55 0.002981\n",
            "52  286 81.83 0.002716\n",
            "53  294 82.09 0.002475\n",
            "54  300 82.34 0.002255\n",
            "55  309 82.58 0.002054\n",
            "56  318 82.79 0.001872\n",
            "57  323 82.99 0.001706\n",
            "58  331 83.18 0.001554\n",
            "59  333 83.35 0.001416\n",
            "60  340 83.51 0.001290\n",
            "61  351 83.66 0.001176\n",
            "62  360 83.80 0.001071\n",
            "63  365 83.93 0.000976\n",
            "64  375 84.06 0.000889\n",
            "65  385 84.18 0.000810\n",
            "66  394 84.29 0.000738\n",
            "67  401 84.40 0.000673\n",
            "68  411 84.52 0.000613\n",
            "69  426 84.63 0.000558\n",
            "70  441 84.74 0.000509\n",
            "71  458 84.85 0.000464\n",
            "72  463 84.97 0.000423\n",
            "73  473 85.07 0.000385\n",
            "74  484 85.16 0.000351\n",
            "75  486 85.25 0.000320\n",
            "76  495 85.34 0.000291\n",
            "77  509 85.42 0.000265\n",
            "78  515 85.50 0.000242\n",
            "79  520 85.57 0.000220\n",
            "80  528 85.66 0.000201\n",
            "81  536 85.71 0.000183\n",
            "82  541 85.78 0.000167\n",
            "83  547 85.82 0.000152\n",
            "84  549 85.89 0.000138\n",
            "85  554 85.93 0.000126\n",
            "86  555 85.97 0.000115\n",
            "87  557 86.01 0.000105\n",
            "88  560 86.05 0.000095\n",
            "89  563 86.08 0.000087\n",
            "90  566 86.12 0.000079\n",
            "91  568 86.15 0.000072\n",
            "92  570 86.17 0.000066\n",
            "93  569 86.20 0.000060\n",
            "94  574 86.22 0.000055\n",
            "95  576 86.24 0.000050\n",
            "96  576 86.25 0.000045\n",
            "97  577 86.27 0.000041\n",
            "98  578 86.28 0.000038\n",
            "99  578 86.29 0.000034\n",
            "100 584 86.30 0.000031\n",
            "\n"
          ]
        }
      ]
    },
    {
      "cell_type": "markdown",
      "source": [
        "See pdf output of regularization paths."
      ],
      "metadata": {
        "id": "-nHMwpicQvwb"
      }
    },
    {
      "cell_type": "markdown",
      "source": [
        "*End of notebook 2*"
      ],
      "metadata": {
        "id": "lYik3SOWQ0Ax"
      }
    }
  ]
}
